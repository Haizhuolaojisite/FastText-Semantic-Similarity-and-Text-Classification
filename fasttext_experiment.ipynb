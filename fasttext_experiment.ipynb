{
  "nbformat": 4,
  "nbformat_minor": 0,
  "metadata": {
    "colab": {
      "name": "fasttext_experiment.ipynb",
      "provenance": [],
      "mount_file_id": "1s1pqLgoUqxKamw1nkLvTJ5zTVhyeOAqW",
      "authorship_tag": "ABX9TyOqixFJWIxdaDaQ8/f4X9b2",
      "include_colab_link": true
    },
    "kernelspec": {
      "name": "python3",
      "display_name": "Python 3"
    }
  },
  "cells": [
    {
      "cell_type": "markdown",
      "metadata": {
        "id": "view-in-github",
        "colab_type": "text"
      },
      "source": [
        "<a href=\"https://colab.research.google.com/github/Haizhuolaojisite/FastText-Semantic-Similarity-and-Text-Classification/blob/main/fasttext_experiment.ipynb\" target=\"_parent\"><img src=\"https://colab.research.google.com/assets/colab-badge.svg\" alt=\"Open In Colab\"/></a>"
      ]
    },
    {
      "cell_type": "code",
      "metadata": {
        "id": "F8aYgVAVtSlZ"
      },
      "source": [
        "%%capture\n",
        "!pip install wikipedia"
      ],
      "execution_count": 1,
      "outputs": []
    },
    {
      "cell_type": "code",
      "metadata": {
        "colab": {
          "base_uri": "https://localhost:8080/"
        },
        "id": "CTQFnW5auEa4",
        "outputId": "3f91748e-f364-420b-beb0-6dd61597d898"
      },
      "source": [
        "from keras.preprocessing.text import Tokenizer\n",
        "from gensim.models.fasttext import FastText\n",
        "import numpy as np\n",
        "import matplotlib.pyplot as plt\n",
        "import nltk\n",
        "from string import punctuation\n",
        "from nltk.corpus import stopwords\n",
        "from nltk.tokenize import word_tokenize\n",
        "from nltk.stem import WordNetLemmatizer\n",
        "from nltk.tokenize import sent_tokenize\n",
        "from nltk import WordPunctTokenizer\n",
        "\n",
        "import wikipedia\n",
        "import nltk\n",
        "nltk.download('punkt')\n",
        "nltk.download('wordnet')\n",
        "nltk.download('stopwords')\n",
        "en_stop = set(nltk.corpus.stopwords.words('english'))\n",
        "\n",
        "%matplotlib inline"
      ],
      "execution_count": 2,
      "outputs": [
        {
          "output_type": "stream",
          "text": [
            "[nltk_data] Downloading package punkt to /root/nltk_data...\n",
            "[nltk_data]   Unzipping tokenizers/punkt.zip.\n",
            "[nltk_data] Downloading package wordnet to /root/nltk_data...\n",
            "[nltk_data]   Unzipping corpora/wordnet.zip.\n",
            "[nltk_data] Downloading package stopwords to /root/nltk_data...\n",
            "[nltk_data]   Unzipping corpora/stopwords.zip.\n"
          ],
          "name": "stdout"
        }
      ]
    },
    {
      "cell_type": "markdown",
      "metadata": {
        "id": "D_qg5tQvwIKW"
      },
      "source": [
        "# Scraping Wikipedia Articles"
      ]
    },
    {
      "cell_type": "code",
      "metadata": {
        "id": "IqO6L_9guM51"
      },
      "source": [
        "\n",
        "artificial_intelligence = wikipedia.page(\"Artificial Intelligence\").content\n",
        "machine_learning = wikipedia.page(\"MachineLearning\").content\n",
        "deep_learning = wikipedia.page(\"Deep Learning\").content\n",
        "neural_network = wikipedia.page(\"Neural Network\").content\n",
        "\n",
        "# The sent_tokenize method returns list of sentences\n",
        "artificial_intelligence = sent_tokenize(artificial_intelligence)\n",
        "machine_learning = sent_tokenize(machine_learning)\n",
        "deep_learning = sent_tokenize(deep_learning)\n",
        "neural_network = sent_tokenize(neural_network)\n",
        "\n",
        "# sentences from the four articles are joined together via the extend method\n",
        "artificial_intelligence.extend(machine_learning)\n",
        "artificial_intelligence.extend(deep_learning)\n",
        "artificial_intelligence.extend(neural_network)"
      ],
      "execution_count": 8,
      "outputs": []
    },
    {
      "cell_type": "markdown",
      "metadata": {
        "id": "KE0RUF5UxU91"
      },
      "source": [
        "# Data Preprocessing\n",
        "The next step is to clean our text data by removing punctuations and numbers. We will also convert the data into the lower case. The words in our data will be lemmatized to their root form. Furthermore, the stop words and the words with the length less than 4 will be removed from the corpus."
      ]
    },
    {
      "cell_type": "code",
      "metadata": {
        "id": "7RsObtcNwlmF"
      },
      "source": [
        "import re\n",
        "from nltk.stem import WordNetLemmatizer\n",
        "\n",
        "stemmer = WordNetLemmatizer()\n",
        "\n",
        "def preprocess_text(document):\n",
        "        # Remove all the special characters\n",
        "        document = re.sub(r'\\W', ' ', str(document))\n",
        "\n",
        "        # remove all single characters\n",
        "        document = re.sub(r'\\s+[a-zA-Z]\\s+', ' ', document)\n",
        "\n",
        "        # Remove single characters from the start\n",
        "        document = re.sub(r'\\^[a-zA-Z]\\s+', ' ', document)\n",
        "\n",
        "        # Substituting multiple spaces with single space\n",
        "        document = re.sub(r'\\s+', ' ', document, flags=re.I)\n",
        "\n",
        "        # Removing prefixed 'b'\n",
        "        document = re.sub(r'^b\\s+', '', document)\n",
        "\n",
        "        # Converting to Lowercase\n",
        "        document = document.lower()\n",
        "\n",
        "        # Lemmatization\n",
        "        tokens = document.split()\n",
        "        tokens = [stemmer.lemmatize(word) for word in tokens]\n",
        "        tokens = [word for word in tokens if word not in en_stop]\n",
        "        tokens = [word for word in tokens if len(word) > 3]\n",
        "\n",
        "        preprocessed_text = ' '.join(tokens)\n",
        "\n",
        "        return preprocessed_text"
      ],
      "execution_count": 9,
      "outputs": []
    },
    {
      "cell_type": "code",
      "metadata": {
        "colab": {
          "base_uri": "https://localhost:8080/"
        },
        "id": "MUrhY-htxona",
        "outputId": "c564374d-5fc2-461c-e823-61f9f6e3c7fa"
      },
      "source": [
        "sent = preprocess_text(\"Artificial intelligence, is the most advanced technology of the present era\")\n",
        "print(sent)\n",
        "\n",
        "# The strip() method removes any leading (spaces at the beginning) and trailing (spaces at the end) characters (space is the default leading character to remove)\n",
        "final_corpus = [preprocess_text(sentence) for sentence in artificial_intelligence if sentence.strip() !='']\n",
        "\n",
        "word_punctuation_tokenizer = nltk.WordPunctTokenizer()\n",
        "word_tokenized_corpus = [word_punctuation_tokenizer.tokenize(sent) for sent in final_corpus]"
      ],
      "execution_count": 10,
      "outputs": [
        {
          "output_type": "stream",
          "text": [
            "artificial intelligence advanced technology present\n"
          ],
          "name": "stdout"
        }
      ]
    },
    {
      "cell_type": "markdown",
      "metadata": {
        "id": "nDgPkT9s1X1w"
      },
      "source": [
        "# Creating Words Representation"
      ]
    },
    {
      "cell_type": "markdown",
      "metadata": {
        "id": "my90GNdk5FVk"
      },
      "source": [
        " The window_size is the size of the number of words occurring before and after the word based on which the word representations will be learned for the word. This might sound tricky, however in the skip-gram model we input a word to the algorithm and the output is the context words. If the window size is 40, for each input there will be 80 outputs: 40 words that occur before the input word and 40 words that occur after the input word. The word embeddings for the input word are learned using these 80 output words."
      ]
    },
    {
      "cell_type": "code",
      "metadata": {
        "id": "n9HlRQfS09lm"
      },
      "source": [
        "# Hyperparameters\n",
        "# the size of the embedding vector. In other words, each word in our corpus will be represented as a 60-dimensional vector\n",
        "embedding_size = 60\n",
        "window_size = 40\n",
        "#  minimum frequency of a word in the corpus for which the word representations will be generated\n",
        "min_word = 5\n",
        "# most frequently occurring word will be down-sampled by a number specified by the down_sampling attribute\n",
        "down_sampling = 1e-2"
      ],
      "execution_count": 12,
      "outputs": []
    },
    {
      "cell_type": "markdown",
      "metadata": {
        "id": "ItFa1KIN6QCa"
      },
      "source": [
        "sg parameter defines the type of model that we want to create. A value of 1 specifies that we want to create skip-gram model. Whereas zero specifies the bag of words model, which is the default value as well.\n",
        "\n"
      ]
    },
    {
      "cell_type": "code",
      "metadata": {
        "colab": {
          "base_uri": "https://localhost:8080/"
        },
        "id": "B6SYY9ls1uAg",
        "outputId": "fa1c7bb7-8619-45af-f7cc-065a165416de"
      },
      "source": [
        "%%time\n",
        "ft_model = FastText(word_tokenized_corpus,\n",
        "                      size=embedding_size,\n",
        "                      window=window_size,\n",
        "                      min_count=min_word,\n",
        "                      sample=down_sampling,\n",
        "                      sg=1,\n",
        "                      iter=100)"
      ],
      "execution_count": 13,
      "outputs": [
        {
          "output_type": "stream",
          "text": [
            "CPU times: user 1min 14s, sys: 274 ms, total: 1min 14s\n",
            "Wall time: 43.6 s\n"
          ],
          "name": "stdout"
        }
      ]
    },
    {
      "cell_type": "code",
      "metadata": {
        "colab": {
          "base_uri": "https://localhost:8080/"
        },
        "id": "FGVaY2Wl6H-D",
        "outputId": "866afa64-1742-4982-8f18-313ae61db953"
      },
      "source": [
        "# word representation for the word \"artificial\"\n",
        "print(ft_model.wv['artificial'])"
      ],
      "execution_count": 14,
      "outputs": [
        {
          "output_type": "stream",
          "text": [
            "[ 0.3230101   0.6593738   0.06713545 -0.36494565 -0.3663365  -0.2500834\n",
            "  0.21393697  0.01291717  0.44985157 -0.5640005  -0.1870308   0.02447853\n",
            " -0.15717205  0.24037187 -0.17830859  0.55571    -0.5837738  -0.5156426\n",
            "  0.46179357 -0.07073807 -0.02302236  0.30522376  0.07981881  0.12179226\n",
            "  0.07562064  0.23015459 -0.20068336 -0.43400612 -0.085074   -0.16118324\n",
            " -0.25569078  0.28557926  0.01267226  0.18720098 -0.26361385  0.00833027\n",
            "  0.3379947  -0.14833906 -0.07901882 -0.35918897  0.10511717 -0.31783596\n",
            "  0.09336255 -0.10391897 -0.09166489 -0.01505258  0.66464865 -0.26449314\n",
            " -0.03847535  0.01329867 -0.3010621   0.6220512  -0.50436234 -0.13396011\n",
            "  0.16681775  0.24672617  0.24850565  0.05640783 -0.46652815  0.4625896 ]\n"
          ],
          "name": "stdout"
        }
      ]
    },
    {
      "cell_type": "code",
      "metadata": {
        "colab": {
          "base_uri": "https://localhost:8080/"
        },
        "id": "vx4wmGr86dwv",
        "outputId": "0fb8f4bc-4f38-40bf-a8b6-7d1ef218b532"
      },
      "source": [
        "# find top 5 most similar words for the words 'artificial', 'intelligence', 'machine', 'network', 'recurrent', 'deep'. You can chose any number of words\n",
        "semantically_similar_words = {words: [item[0] for item in ft_model.wv.most_similar([words], topn=5)]\n",
        "                  for words in ['artificial', 'intelligence', 'machine', 'network', 'recurrent', 'deep']}\n",
        "\n",
        "for k,v in semantically_similar_words.items():\n",
        "    print(k+\":\"+str(v))"
      ],
      "execution_count": 15,
      "outputs": [
        {
          "output_type": "stream",
          "text": [
            "artificial:['intelligence', 'inspired', 'moral', 'neuron', 'simulated']\n",
            "intelligence:['artificial', 'intelligent', 'moral', 'creating', 'human']\n",
            "machine:['learning', 'ethic', 'international', 'source', 'intelligence']\n",
            "network:['neural', 'recurrent', 'convolutional', 'biological', 'deep']\n",
            "recurrent:['network', 'neural', 'convolutional', 'published', 'feedforward']\n",
            "deep:['generative', 'speech', 'specifically', 'network', 'cnns']\n"
          ],
          "name": "stdout"
        },
        {
          "output_type": "stream",
          "text": [
            "/usr/local/lib/python3.6/dist-packages/gensim/matutils.py:737: FutureWarning: Conversion of the second argument of issubdtype from `int` to `np.signedinteger` is deprecated. In future, it will be treated as `np.int64 == np.dtype(int).type`.\n",
            "  if np.issubdtype(vec.dtype, np.int):\n"
          ],
          "name": "stderr"
        }
      ]
    },
    {
      "cell_type": "code",
      "metadata": {
        "colab": {
          "base_uri": "https://localhost:8080/"
        },
        "id": "dAp5pOVhBLJI",
        "outputId": "c70c746a-2464-4446-a75e-a668e5323c4e"
      },
      "source": [
        "# We can also find the cosine similarity between the vectors for any two words, as shown below:\n",
        "print(ft_model.wv.similarity(w1='artificial', w2='intelligence'))\n",
        "# The value can be anywhere between 0 and 1. A higher value means higher similarity.\n"
      ],
      "execution_count": 16,
      "outputs": [
        {
          "output_type": "stream",
          "text": [
            "0.75801986\n"
          ],
          "name": "stdout"
        },
        {
          "output_type": "stream",
          "text": [
            "/usr/local/lib/python3.6/dist-packages/gensim/matutils.py:737: FutureWarning: Conversion of the second argument of issubdtype from `int` to `np.signedinteger` is deprecated. In future, it will be treated as `np.int64 == np.dtype(int).type`.\n",
            "  if np.issubdtype(vec.dtype, np.int):\n"
          ],
          "name": "stderr"
        }
      ]
    },
    {
      "cell_type": "markdown",
      "metadata": {
        "id": "YP3zf4XWB37G"
      },
      "source": [
        "# Visualizing Word Similarities\n",
        "Though each word in our model is represented as 60-dimensional vector, we can use principal component analysis technique to find two principal components. The two principal components can then be used to plot the words in a two dimensional space. However, first we need to create a list of all the words in the semantically_similar_words dictionary. The following script does that:"
      ]
    },
    {
      "cell_type": "code",
      "metadata": {
        "colab": {
          "base_uri": "https://localhost:8080/"
        },
        "id": "L9weXZzCBZ5S",
        "outputId": "a7054a28-014f-4f84-97d9-e3a37687f750"
      },
      "source": [
        "from sklearn.decomposition import PCA\n",
        "\n",
        "all_similar_words = sum([[k] + v for k, v in semantically_similar_words.items()], [])\n",
        "\n",
        "print(all_similar_words)\n",
        "print(type(all_similar_words))\n",
        "print(len(all_similar_words))"
      ],
      "execution_count": 19,
      "outputs": [
        {
          "output_type": "stream",
          "text": [
            "['artificial', 'intelligence', 'inspired', 'moral', 'neuron', 'simulated', 'intelligence', 'artificial', 'intelligent', 'moral', 'creating', 'human', 'machine', 'learning', 'ethic', 'international', 'source', 'intelligence', 'network', 'neural', 'recurrent', 'convolutional', 'biological', 'deep', 'recurrent', 'network', 'neural', 'convolutional', 'published', 'feedforward', 'deep', 'generative', 'speech', 'specifically', 'network', 'cnns']\n",
            "<class 'list'>\n",
            "36\n"
          ],
          "name": "stdout"
        }
      ]
    },
    {
      "cell_type": "markdown",
      "metadata": {
        "id": "tfuT0MIoCt3H"
      },
      "source": [
        "In the script above, we iterate through all the key-value pairs in the semantically_similar_words dictionary. Each key in the dictionary is a word. The corresponding value is a list of all semantically similar words. Since we found the top 5 most similar words for a list of 6 words i.e. 'artificial', 'intelligence', 'machine', 'network', 'recurrent', 'deep', you will see that there will be 30 items in the all_similar_words list."
      ]
    },
    {
      "cell_type": "markdown",
      "metadata": {
        "id": "6qsFxx4lC1OB"
      },
      "source": [
        "Next, we have to find the word vectors for all these 30 words, and then use PCA to reduce the dimensions of the word vectors from 60 to 2. We can then use the plt method, which is an alias of the matplotlib.pyplot method to plot the words on a two-dimensional vector space."
      ]
    },
    {
      "cell_type": "code",
      "metadata": {
        "colab": {
          "base_uri": "https://localhost:8080/",
          "height": 612
        },
        "id": "MUql2eIuCQIZ",
        "outputId": "93145447-d1a2-414c-e8e4-87efade71d26"
      },
      "source": [
        "word_vectors = ft_model.wv[all_similar_words]\n",
        "\n",
        "pca = PCA(n_components=2)\n",
        "\n",
        "p_comps = pca.fit_transform(word_vectors)\n",
        "word_names = all_similar_words\n",
        "\n",
        "plt.figure(figsize=(18, 10))\n",
        "plt.scatter(p_comps[:, 0], p_comps[:, 1], c='red')\n",
        "\n",
        "# xy:The point (x,y) to annotate; xytext:The position (x,y) to place the text at. If None, defaults to xy.\n",
        "for word_names, x, y in zip(word_names, p_comps[:, 0], p_comps[:, 1]):\n",
        "    plt.annotate(word_names, xy=(x+0.06, y+0.03), xytext=(0, 0), textcoords='offset points')"
      ],
      "execution_count": 20,
      "outputs": [
        {
          "output_type": "display_data",
          "data": {
            "image/png": "[encoded data removed]",
            "text/plain": [
              "<Figure size 1296x720 with 1 Axes>"
            ]
          },
          "metadata": {
            "tags": [],
            "needs_background": "light"
          }
        }
      ]
    },
    {
      "cell_type": "markdown",
      "metadata": {
        "id": "iQGZhgrxEKUR"
      },
      "source": [
        "You can see the words that frequently occur together in the text are close to each other in the two dimensional plane as well. For instance, the words \"deep\" and \"network\" are almost overlapping. Similarly, the words \"feedforward\" and \"backpropagation\" are also very close.\n"
      ]
    },
    {
      "cell_type": "markdown",
      "metadata": {
        "id": "jZOBJFiCENcF"
      },
      "source": [
        "# FastText for Text Classification"
      ]
    },
    {
      "cell_type": "markdown",
      "metadata": {
        "id": "KlSEPPQ0GgzU"
      },
      "source": [
        "Text classification refers to classifying textual data into predefined categories based on the contents of the text. Sentiment analysis, spam detection, and tag detection are some of the most common examples of use-cases for text classification.\n",
        "\n",
        "FastText text classification module can only be run via Linux or OSX. If you are a Windows user, you can use Google Colaboratory to run FastText text classification module. \n",
        "\n",
        "The dataset contains multiple files, but we are only interested in the yelp_review.csv file. The file contains more than 5.2 million reviews about different businesses including restaurants, bars, dentists, doctors, beauty salons, etc. However, we will only be using the first 50,000 records to train our model due to memory constraints. "
      ]
    },
    {
      "cell_type": "code",
      "metadata": {
        "colab": {
          "base_uri": "https://localhost:8080/",
          "height": 685
        },
        "id": "lF53za5NC4vq",
        "outputId": "661a9bd7-c0fb-494d-e8c8-aecb456d2528"
      },
      "source": [
        "import pandas as pd\n",
        "import numpy as np\n",
        "\n",
        "yelp_reviews = pd.read_csv(\"/content/drive/MyDrive/Colab Notebooks/yelp.csv\")\n",
        "\n",
        "bins = [0,2,5]\n",
        "review_names = ['negative', 'positive']\n",
        "\n",
        "yelp_reviews['reviews_score'] = pd.cut(yelp_reviews['stars'], bins, labels=review_names)\n",
        "\n",
        "yelp_reviews.head()"
      ],
      "execution_count": 35,
      "outputs": [
        {
          "output_type": "execute_result",
          "data": {
            "text/html": [
              "<div>\n",
              "<style scoped>\n",
              "    .dataframe tbody tr th:only-of-type {\n",
              "        vertical-align: middle;\n",
              "    }\n",
              "\n",
              "    .dataframe tbody tr th {\n",
              "        vertical-align: top;\n",
              "    }\n",
              "\n",
              "    .dataframe thead th {\n",
              "        text-align: right;\n",
              "    }\n",
              "</style>\n",
              "<table border=\"1\" class=\"dataframe\">\n",
              "  <thead>\n",
              "    <tr style=\"text-align: right;\">\n",
              "      <th></th>\n",
              "      <th>business_id</th>\n",
              "      <th>date</th>\n",
              "      <th>review_id</th>\n",
              "      <th>stars</th>\n",
              "      <th>text</th>\n",
              "      <th>type</th>\n",
              "      <th>user_id</th>\n",
              "      <th>cool</th>\n",
              "      <th>useful</th>\n",
              "      <th>funny</th>\n",
              "      <th>reviews_score</th>\n",
              "    </tr>\n",
              "  </thead>\n",
              "  <tbody>\n",
              "    <tr>\n",
              "      <th>0</th>\n",
              "      <td>9yKzy9PApeiPPOUJEtnvkg</td>\n",
              "      <td>2011-01-26</td>\n",
              "      <td>fWKvX83p0-ka4JS3dc6E5A</td>\n",
              "      <td>5</td>\n",
              "      <td>My wife took me here on my birthday for breakf...</td>\n",
              "      <td>review</td>\n",
              "      <td>rLtl8ZkDX5vH5nAx9C3q5Q</td>\n",
              "      <td>2</td>\n",
              "      <td>5</td>\n",
              "      <td>0</td>\n",
              "      <td>positive</td>\n",
              "    </tr>\n",
              "    <tr>\n",
              "      <th>1</th>\n",
              "      <td>ZRJwVLyzEJq1VAihDhYiow</td>\n",
              "      <td>2011-07-27</td>\n",
              "      <td>IjZ33sJrzXqU-0X6U8NwyA</td>\n",
              "      <td>5</td>\n",
              "      <td>I have no idea why some people give bad review...</td>\n",
              "      <td>review</td>\n",
              "      <td>0a2KyEL0d3Yb1V6aivbIuQ</td>\n",
              "      <td>0</td>\n",
              "      <td>0</td>\n",
              "      <td>0</td>\n",
              "      <td>positive</td>\n",
              "    </tr>\n",
              "    <tr>\n",
              "      <th>2</th>\n",
              "      <td>6oRAC4uyJCsJl1X0WZpVSA</td>\n",
              "      <td>2012-06-14</td>\n",
              "      <td>IESLBzqUCLdSzSqm0eCSxQ</td>\n",
              "      <td>4</td>\n",
              "      <td>love the gyro plate. Rice is so good and I als...</td>\n",
              "      <td>review</td>\n",
              "      <td>0hT2KtfLiobPvh6cDC8JQg</td>\n",
              "      <td>0</td>\n",
              "      <td>1</td>\n",
              "      <td>0</td>\n",
              "      <td>positive</td>\n",
              "    </tr>\n",
              "    <tr>\n",
              "      <th>3</th>\n",
              "      <td>_1QQZuf4zZOyFCvXc0o6Vg</td>\n",
              "      <td>2010-05-27</td>\n",
              "      <td>G-WvGaISbqqaMHlNnByodA</td>\n",
              "      <td>5</td>\n",
              "      <td>Rosie, Dakota, and I LOVE Chaparral Dog Park!!...</td>\n",
              "      <td>review</td>\n",
              "      <td>uZetl9T0NcROGOyFfughhg</td>\n",
              "      <td>1</td>\n",
              "      <td>2</td>\n",
              "      <td>0</td>\n",
              "      <td>positive</td>\n",
              "    </tr>\n",
              "    <tr>\n",
              "      <th>4</th>\n",
              "      <td>6ozycU1RpktNG2-1BroVtw</td>\n",
              "      <td>2012-01-05</td>\n",
              "      <td>1uJFq2r5QfJG_6ExMRCaGw</td>\n",
              "      <td>5</td>\n",
              "      <td>General Manager Scott Petello is a good egg!!!...</td>\n",
              "      <td>review</td>\n",
              "      <td>vYmM4KTsC8ZfQBg-j5MWkw</td>\n",
              "      <td>0</td>\n",
              "      <td>0</td>\n",
              "      <td>0</td>\n",
              "      <td>positive</td>\n",
              "    </tr>\n",
              "  </tbody>\n",
              "</table>\n",
              "</div>"
            ],
            "text/plain": [
              "              business_id        date  ... funny  reviews_score\n",
              "0  9yKzy9PApeiPPOUJEtnvkg  2011-01-26  ...     0       positive\n",
              "1  ZRJwVLyzEJq1VAihDhYiow  2011-07-27  ...     0       positive\n",
              "2  6oRAC4uyJCsJl1X0WZpVSA  2012-06-14  ...     0       positive\n",
              "3  _1QQZuf4zZOyFCvXc0o6Vg  2010-05-27  ...     0       positive\n",
              "4  6ozycU1RpktNG2-1BroVtw  2012-01-05  ...     0       positive\n",
              "\n",
              "[5 rows x 11 columns]"
            ]
          },
          "metadata": {
            "tags": []
          },
          "execution_count": 35
        }
      ]
    },
    {
      "cell_type": "markdown",
      "metadata": {
        "id": "-p_O8b57MFnw"
      },
      "source": [
        "The next step is to import FastText models, which can be imported using the wget command from the GitHub repository, as shown in the following script:\n",
        "\n",
        "Note: If you are executing the above command from a Linux terminal, you don't have to prefix ! before the above command. In Google Colaboratory notebook, any command after the ! is executed as a shell command and not within the Python interpreter. Hence all non-Python commands here are prefixed by !."
      ]
    },
    {
      "cell_type": "code",
      "metadata": {
        "colab": {
          "base_uri": "https://localhost:8080/"
        },
        "id": "2Z2GLbRMGwn1",
        "outputId": "4d1fc00b-21f3-47fe-8a8d-f95b1913853b"
      },
      "source": [
        "!wget https://github.com/facebookresearch/fastText/archive/v0.1.0.zip"
      ],
      "execution_count": 23,
      "outputs": [
        {
          "output_type": "stream",
          "text": [
            "--2020-12-14 16:58:32--  https://github.com/facebookresearch/fastText/archive/v0.1.0.zip\n",
            "Resolving github.com (github.com)... 140.82.121.3\n",
            "Connecting to github.com (github.com)|140.82.121.3|:443... connected.\n",
            "HTTP request sent, awaiting response... 302 Found\n",
            "Location: https://codeload.github.com/facebookresearch/fastText/zip/v0.1.0 [following]\n",
            "--2020-12-14 16:58:33--  https://codeload.github.com/facebookresearch/fastText/zip/v0.1.0\n",
            "Resolving codeload.github.com (codeload.github.com)... 140.82.121.9\n",
            "Connecting to codeload.github.com (codeload.github.com)|140.82.121.9|:443... connected.\n",
            "HTTP request sent, awaiting response... 200 OK\n",
            "Length: unspecified [application/zip]\n",
            "Saving to: ‘v0.1.0.zip’\n",
            "\n",
            "v0.1.0.zip              [ <=>                ]  92.06K  --.-KB/s    in 0.02s   \n",
            "\n",
            "2020-12-14 16:58:33 (3.63 MB/s) - ‘v0.1.0.zip’ saved [94267]\n",
            "\n"
          ],
          "name": "stdout"
        }
      ]
    },
    {
      "cell_type": "markdown",
      "metadata": {
        "id": "gShMR1LrMTPF"
      },
      "source": [
        "The next step is to unzip FastText modules. Simply type the following command:"
      ]
    },
    {
      "cell_type": "code",
      "metadata": {
        "colab": {
          "base_uri": "https://localhost:8080/"
        },
        "id": "rg2Bk0EnMHkS",
        "outputId": "fe54ea51-1176-4ef1-8643-928562fcefa1"
      },
      "source": [
        "!unzip v0.1.0.zip"
      ],
      "execution_count": 24,
      "outputs": [
        {
          "output_type": "stream",
          "text": [
            "Archive:  v0.1.0.zip\n",
            "431c9e2a9b5149369cc60fb9f5beba58dcf8ca17\n",
            "   creating: fastText-0.1.0/\n",
            "  inflating: fastText-0.1.0/.gitignore  \n",
            "  inflating: fastText-0.1.0/CONTRIBUTING.md  \n",
            "  inflating: fastText-0.1.0/LICENSE  \n",
            "  inflating: fastText-0.1.0/Makefile  \n",
            "  inflating: fastText-0.1.0/PATENTS  \n",
            "  inflating: fastText-0.1.0/README.md  \n",
            "  inflating: fastText-0.1.0/classification-example.sh  \n",
            "  inflating: fastText-0.1.0/classification-results.sh  \n",
            "  inflating: fastText-0.1.0/eval.py  \n",
            "  inflating: fastText-0.1.0/get-wikimedia.sh  \n",
            "  inflating: fastText-0.1.0/pretrained-vectors.md  \n",
            "  inflating: fastText-0.1.0/quantization-example.sh  \n",
            "  inflating: fastText-0.1.0/quantization-results.sh  \n",
            "   creating: fastText-0.1.0/src/\n",
            "  inflating: fastText-0.1.0/src/args.cc  \n",
            "  inflating: fastText-0.1.0/src/args.h  \n",
            "  inflating: fastText-0.1.0/src/dictionary.cc  \n",
            "  inflating: fastText-0.1.0/src/dictionary.h  \n",
            "  inflating: fastText-0.1.0/src/fasttext.cc  \n",
            "  inflating: fastText-0.1.0/src/fasttext.h  \n",
            "  inflating: fastText-0.1.0/src/main.cc  \n",
            "  inflating: fastText-0.1.0/src/matrix.cc  \n",
            "  inflating: fastText-0.1.0/src/matrix.h  \n",
            "  inflating: fastText-0.1.0/src/model.cc  \n",
            "  inflating: fastText-0.1.0/src/model.h  \n",
            "  inflating: fastText-0.1.0/src/productquantizer.cc  \n",
            "  inflating: fastText-0.1.0/src/productquantizer.h  \n",
            "  inflating: fastText-0.1.0/src/qmatrix.cc  \n",
            "  inflating: fastText-0.1.0/src/qmatrix.h  \n",
            "  inflating: fastText-0.1.0/src/real.h  \n",
            "  inflating: fastText-0.1.0/src/utils.cc  \n",
            "  inflating: fastText-0.1.0/src/utils.h  \n",
            "  inflating: fastText-0.1.0/src/vector.cc  \n",
            "  inflating: fastText-0.1.0/src/vector.h  \n",
            "   creating: fastText-0.1.0/tutorials/\n",
            "  inflating: fastText-0.1.0/tutorials/cbo_vs_skipgram.png  \n",
            "  inflating: fastText-0.1.0/tutorials/supervised-learning.md  \n",
            "  inflating: fastText-0.1.0/tutorials/unsupervised-learning.md  \n",
            "  inflating: fastText-0.1.0/wikifil.pl  \n",
            "  inflating: fastText-0.1.0/word-vector-example.sh  \n"
          ],
          "name": "stdout"
        }
      ]
    },
    {
      "cell_type": "markdown",
      "metadata": {
        "id": "u1yw8NmRMWI7"
      },
      "source": [
        "Next, you have to navigate to the directory where you downloaded FastText and then execute the !make command to run C++ binaries. Execute the following steps:"
      ]
    },
    {
      "cell_type": "code",
      "metadata": {
        "colab": {
          "base_uri": "https://localhost:8080/"
        },
        "id": "sGaui5gVMVhn",
        "outputId": "a8bf4337-6d34-45b3-c0b8-aa045cde9d8f"
      },
      "source": [
        "%cd fastText-0.1.0\n",
        "!make"
      ],
      "execution_count": 30,
      "outputs": [
        {
          "output_type": "stream",
          "text": [
            "/content/fastText-0.1.0\n",
            "c++ -pthread -std=c++0x -O3 -funroll-loops -c src/args.cc\n",
            "c++ -pthread -std=c++0x -O3 -funroll-loops -c src/dictionary.cc\n",
            "c++ -pthread -std=c++0x -O3 -funroll-loops -c src/productquantizer.cc\n",
            "c++ -pthread -std=c++0x -O3 -funroll-loops -c src/matrix.cc\n",
            "c++ -pthread -std=c++0x -O3 -funroll-loops -c src/qmatrix.cc\n",
            "c++ -pthread -std=c++0x -O3 -funroll-loops -c src/vector.cc\n",
            "c++ -pthread -std=c++0x -O3 -funroll-loops -c src/model.cc\n",
            "c++ -pthread -std=c++0x -O3 -funroll-loops -c src/utils.cc\n",
            "c++ -pthread -std=c++0x -O3 -funroll-loops -c src/fasttext.cc\n",
            "c++ -pthread -std=c++0x -O3 -funroll-loops args.o dictionary.o productquantizer.o matrix.o qmatrix.o vector.o model.o utils.o fasttext.o src/main.cc -o fasttext\n"
          ],
          "name": "stdout"
        }
      ]
    },
    {
      "cell_type": "markdown",
      "metadata": {
        "id": "6rHk48tuNd5q"
      },
      "source": [
        "To verify the installation, execute the following command:"
      ]
    },
    {
      "cell_type": "code",
      "metadata": {
        "colab": {
          "base_uri": "https://localhost:8080/"
        },
        "id": "6_g9Cpz3M9na",
        "outputId": "9965559f-a136-42f0-cd5b-144ebd0ad7a1"
      },
      "source": [
        "!./fasttext"
      ],
      "execution_count": 31,
      "outputs": [
        {
          "output_type": "stream",
          "text": [
            "usage: fasttext <command> <args>\n",
            "\n",
            "The commands supported by fasttext are:\n",
            "\n",
            "  supervised              train a supervised classifier\n",
            "  quantize                quantize a model to reduce the memory usage\n",
            "  test                    evaluate a supervised classifier\n",
            "  predict                 predict most likely labels\n",
            "  predict-prob            predict most likely labels with probabilities\n",
            "  skipgram                train a skipgram model\n",
            "  cbow                    train a cbow model\n",
            "  print-word-vectors      print word vectors given a trained model\n",
            "  print-sentence-vectors  print sentence vectors given a trained model\n",
            "  nn                      query for nearest neighbors\n",
            "  analogies               query for analogies\n",
            "\n"
          ],
          "name": "stdout"
        }
      ]
    },
    {
      "cell_type": "markdown",
      "metadata": {
        "id": "0X2X7E_MOYre"
      },
      "source": [
        "Before we train FastText models to perform text classification, it is pertinent to mention that FastText accepts data in a special format, which is as follows:\n",
        "\n",
        "_label_tag This is sentence 1\n",
        "_label_tag2 This is sentence 2.\n",
        "If we look at our dataset, it is not in the desired format. The text with positive sentiment should look like this:\n",
        "\n",
        "\\__label__positive burgers are very big portions here.\n",
        "Similarly, negative reviews should look like this:\n",
        "\n",
        "\\__label__negative They do not use organic ingredients, but I thi..."
      ]
    },
    {
      "cell_type": "code",
      "metadata": {
        "id": "--OWuIEKNfsr"
      },
      "source": [
        "import pandas as pd\n",
        "from io import StringIO\n",
        "import csv\n",
        "\n",
        "# filters the reviews_score and text columns from the dataset \n",
        "col = ['reviews_score', 'text']\n",
        "# prefixes __label__ before all the values in the reviews_score column\n",
        "yelp_reviews['reviews_score'] = ['__label__'+ s for s in yelp_reviews['reviews_score']]\n",
        "#  the \\n and \\t are replaced by a space in the text column\n",
        "yelp_reviews['text']= yelp_reviews['text'].replace('\\n',' ', regex=True).replace('\\t',' ', regex=True)\n",
        "#  the updated dataframe is written to the disk in the form of yelp_reviews_updated.txt\n",
        "yelp_reviews.to_csv(r'/content/drive/MyDrive/Colab Notebooks/yelp_reviews_updated.txt', index=False, sep=' ', header=False, quoting=csv.QUOTE_NONE, quotechar=\"\", escapechar=\" \")"
      ],
      "execution_count": 36,
      "outputs": []
    },
    {
      "cell_type": "code",
      "metadata": {
        "colab": {
          "base_uri": "https://localhost:8080/",
          "height": 285
        },
        "id": "1GnAoUPggNR0",
        "outputId": "2851b47a-6956-48ba-f2b8-af7b0108bb2c"
      },
      "source": [
        "yelp_reviews.head()"
      ],
      "execution_count": 37,
      "outputs": [
        {
          "output_type": "execute_result",
          "data": {
            "text/html": [
              "<div>\n",
              "<style scoped>\n",
              "    .dataframe tbody tr th:only-of-type {\n",
              "        vertical-align: middle;\n",
              "    }\n",
              "\n",
              "    .dataframe tbody tr th {\n",
              "        vertical-align: top;\n",
              "    }\n",
              "\n",
              "    .dataframe thead th {\n",
              "        text-align: right;\n",
              "    }\n",
              "</style>\n",
              "<table border=\"1\" class=\"dataframe\">\n",
              "  <thead>\n",
              "    <tr style=\"text-align: right;\">\n",
              "      <th></th>\n",
              "      <th>business_id</th>\n",
              "      <th>date</th>\n",
              "      <th>review_id</th>\n",
              "      <th>stars</th>\n",
              "      <th>text</th>\n",
              "      <th>type</th>\n",
              "      <th>user_id</th>\n",
              "      <th>cool</th>\n",
              "      <th>useful</th>\n",
              "      <th>funny</th>\n",
              "      <th>reviews_score</th>\n",
              "    </tr>\n",
              "  </thead>\n",
              "  <tbody>\n",
              "    <tr>\n",
              "      <th>0</th>\n",
              "      <td>9yKzy9PApeiPPOUJEtnvkg</td>\n",
              "      <td>2011-01-26</td>\n",
              "      <td>fWKvX83p0-ka4JS3dc6E5A</td>\n",
              "      <td>5</td>\n",
              "      <td>My wife took me here on my birthday for breakf...</td>\n",
              "      <td>review</td>\n",
              "      <td>rLtl8ZkDX5vH5nAx9C3q5Q</td>\n",
              "      <td>2</td>\n",
              "      <td>5</td>\n",
              "      <td>0</td>\n",
              "      <td>__label__positive</td>\n",
              "    </tr>\n",
              "    <tr>\n",
              "      <th>1</th>\n",
              "      <td>ZRJwVLyzEJq1VAihDhYiow</td>\n",
              "      <td>2011-07-27</td>\n",
              "      <td>IjZ33sJrzXqU-0X6U8NwyA</td>\n",
              "      <td>5</td>\n",
              "      <td>I have no idea why some people give bad review...</td>\n",
              "      <td>review</td>\n",
              "      <td>0a2KyEL0d3Yb1V6aivbIuQ</td>\n",
              "      <td>0</td>\n",
              "      <td>0</td>\n",
              "      <td>0</td>\n",
              "      <td>__label__positive</td>\n",
              "    </tr>\n",
              "    <tr>\n",
              "      <th>2</th>\n",
              "      <td>6oRAC4uyJCsJl1X0WZpVSA</td>\n",
              "      <td>2012-06-14</td>\n",
              "      <td>IESLBzqUCLdSzSqm0eCSxQ</td>\n",
              "      <td>4</td>\n",
              "      <td>love the gyro plate. Rice is so good and I als...</td>\n",
              "      <td>review</td>\n",
              "      <td>0hT2KtfLiobPvh6cDC8JQg</td>\n",
              "      <td>0</td>\n",
              "      <td>1</td>\n",
              "      <td>0</td>\n",
              "      <td>__label__positive</td>\n",
              "    </tr>\n",
              "    <tr>\n",
              "      <th>3</th>\n",
              "      <td>_1QQZuf4zZOyFCvXc0o6Vg</td>\n",
              "      <td>2010-05-27</td>\n",
              "      <td>G-WvGaISbqqaMHlNnByodA</td>\n",
              "      <td>5</td>\n",
              "      <td>Rosie, Dakota, and I LOVE Chaparral Dog Park!!...</td>\n",
              "      <td>review</td>\n",
              "      <td>uZetl9T0NcROGOyFfughhg</td>\n",
              "      <td>1</td>\n",
              "      <td>2</td>\n",
              "      <td>0</td>\n",
              "      <td>__label__positive</td>\n",
              "    </tr>\n",
              "    <tr>\n",
              "      <th>4</th>\n",
              "      <td>6ozycU1RpktNG2-1BroVtw</td>\n",
              "      <td>2012-01-05</td>\n",
              "      <td>1uJFq2r5QfJG_6ExMRCaGw</td>\n",
              "      <td>5</td>\n",
              "      <td>General Manager Scott Petello is a good egg!!!...</td>\n",
              "      <td>review</td>\n",
              "      <td>vYmM4KTsC8ZfQBg-j5MWkw</td>\n",
              "      <td>0</td>\n",
              "      <td>0</td>\n",
              "      <td>0</td>\n",
              "      <td>__label__positive</td>\n",
              "    </tr>\n",
              "  </tbody>\n",
              "</table>\n",
              "</div>"
            ],
            "text/plain": [
              "              business_id        date  ... funny      reviews_score\n",
              "0  9yKzy9PApeiPPOUJEtnvkg  2011-01-26  ...     0  __label__positive\n",
              "1  ZRJwVLyzEJq1VAihDhYiow  2011-07-27  ...     0  __label__positive\n",
              "2  6oRAC4uyJCsJl1X0WZpVSA  2012-06-14  ...     0  __label__positive\n",
              "3  _1QQZuf4zZOyFCvXc0o6Vg  2010-05-27  ...     0  __label__positive\n",
              "4  6ozycU1RpktNG2-1BroVtw  2012-01-05  ...     0  __label__positive\n",
              "\n",
              "[5 rows x 11 columns]"
            ]
          },
          "metadata": {
            "tags": []
          },
          "execution_count": 37
        }
      ]
    },
    {
      "cell_type": "code",
      "metadata": {
        "colab": {
          "base_uri": "https://localhost:8080/"
        },
        "id": "wQdZHZqMhYGa",
        "outputId": "0eed328e-53e3-449e-85ec-a5853d0fc02f"
      },
      "source": [
        "yelp_reviews.shape"
      ],
      "execution_count": 38,
      "outputs": [
        {
          "output_type": "execute_result",
          "data": {
            "text/plain": [
              "(10000, 11)"
            ]
          },
          "metadata": {
            "tags": []
          },
          "execution_count": 38
        }
      ]
    },
    {
      "cell_type": "markdown",
      "metadata": {
        "id": "mKWPRpekh1nh"
      },
      "source": [
        "The following script divides the data into training and test sets:\n",
        "\n"
      ]
    },
    {
      "cell_type": "code",
      "metadata": {
        "id": "dtikJCtHhwcv"
      },
      "source": [
        "!head -n 8000 \"/content/drive/MyDrive/Colab Notebooks/yelp_reviews_updated.txt\" > \"/content/drive/MyDrive/Colab Notebooks/yelp_reviews_train.txt\"\n",
        "!tail -n 2000 \"/content/drive/MyDrive/Colab Notebooks/yelp_reviews_updated.txt\" > \"/content/drive/MyDrive/Colab Notebooks/yelp_reviews_test.txt\""
      ],
      "execution_count": 43,
      "outputs": []
    },
    {
      "cell_type": "markdown",
      "metadata": {
        "id": "nUJVbHz0iJiT"
      },
      "source": [
        "Now is the time to train our FastText text classification algorithm.\n",
        "\n",
        "To train the algorithm we have to use supervised command and pass it the input file. The model name is specified after the -output keyword. The above script will result in a trained text classification model called model_yelp_reviews.bin"
      ]
    },
    {
      "cell_type": "code",
      "metadata": {
        "colab": {
          "base_uri": "https://localhost:8080/"
        },
        "id": "SLEICqgCiCcz",
        "outputId": "f0c7a784-f03b-4208-ed6c-5d051d9063a3"
      },
      "source": [
        "%%time\n",
        "!./fasttext supervised -input \"/content/drive/MyDrive/Colab Notebooks/yelp_reviews_train.txt\" -output model_yelp_reviews\n"
      ],
      "execution_count": 44,
      "outputs": [
        {
          "output_type": "stream",
          "text": [
            "\rRead 1M words\rRead 1M words\n",
            "Number of words:  89225\n",
            "Number of labels: 2\n",
            "Progress: 100.0%  words/sec/thread: 3098868  lr: 0.000000  loss: 0.279750  eta: 0h0m \n",
            "CPU times: user 26.4 ms, sys: 27 ms, total: 53.4 ms\n",
            "Wall time: 5.6 s\n"
          ],
          "name": "stdout"
        }
      ]
    },
    {
      "cell_type": "markdown",
      "metadata": {
        "id": "cdfpSa4AlO4A"
      },
      "source": [
        "take a look at the model via !ls command as shown below:"
      ]
    },
    {
      "cell_type": "code",
      "metadata": {
        "colab": {
          "base_uri": "https://localhost:8080/"
        },
        "id": "A6i2MBfsk8AO",
        "outputId": "9c84ab7d-3d8b-45de-8d5f-cc92fc9b94a1"
      },
      "source": [
        "!ls"
      ],
      "execution_count": 45,
      "outputs": [
        {
          "output_type": "stream",
          "text": [
            "args.o\t\t\t   Makefile\t\t    quantization-results.sh\n",
            "classification-example.sh  matrix.o\t\t    README.md\n",
            "classification-results.sh  model.o\t\t    src\n",
            "CONTRIBUTING.md\t\t   model_yelp_reviews.bin   tutorials\n",
            "dictionary.o\t\t   model_yelp_reviews.vec   utils.o\n",
            "eval.py\t\t\t   PATENTS\t\t    vector.o\n",
            "fasttext\t\t   pretrained-vectors.md    wikifil.pl\n",
            "fasttext.o\t\t   productquantizer.o\t    word-vector-example.sh\n",
            "get-wikimedia.sh\t   qmatrix.o\n",
            "LICENSE\t\t\t   quantization-example.sh\n"
          ],
          "name": "stdout"
        }
      ]
    },
    {
      "cell_type": "markdown",
      "metadata": {
        "id": "yV4Ixp4cl7lm"
      },
      "source": [
        "Finally, to test the model you can use the test command. You have to specify the model name and the test file after the test command, as shown below:"
      ]
    },
    {
      "cell_type": "code",
      "metadata": {
        "colab": {
          "base_uri": "https://localhost:8080/"
        },
        "id": "rf9U4BJelQgP",
        "outputId": "af369067-8aef-4608-f2b0-592cf8e8594f"
      },
      "source": [
        "!./fasttext test model_yelp_reviews.bin \"/content/drive/MyDrive/Colab Notebooks/yelp_reviews_test.txt\"\n"
      ],
      "execution_count": 46,
      "outputs": [
        {
          "output_type": "stream",
          "text": [
            "N\t2000\n",
            "P@1\t0.939\n",
            "R@1\t0.939\n",
            "Number of examples: 2000\n"
          ],
          "name": "stdout"
        }
      ]
    },
    {
      "cell_type": "markdown",
      "metadata": {
        "id": "0ZJkTM97mE07"
      },
      "source": [
        "Here P@1 refers to precision and R@1refers to recall. You can see our model achieves precision and recall of 0.939 which is pretty good."
      ]
    },
    {
      "cell_type": "markdown",
      "metadata": {
        "id": "ZY2AtANemN1R"
      },
      "source": [
        "Let's now try to clean our text of punctuations, special characters, and convert it into the lower case to improve the uniformity of text. \n"
      ]
    },
    {
      "cell_type": "code",
      "metadata": {
        "id": "NejObfTbmAJB"
      },
      "source": [
        "!cat \"/content/drive/MyDrive/Colab Notebooks/yelp_reviews_train.txt\" | sed -e \"s/\\([.\\!?,’/()]\\)/ \\1 /g\" | tr \"[:upper:]\" \"[:lower:]\" > \"/content/drive/MyDrive/Colab Notebooks/yelp_reviews_train_clean.txt\""
      ],
      "execution_count": 47,
      "outputs": []
    },
    {
      "cell_type": "markdown",
      "metadata": {
        "id": "dwYsb5fYsXJB"
      },
      "source": [
        "And the following script cleans the test set:\n"
      ]
    },
    {
      "cell_type": "code",
      "metadata": {
        "id": "XbGAsHXPsRMf"
      },
      "source": [
        "!cat \"/content/drive/MyDrive/Colab Notebooks/yelp_reviews_test.txt\" | sed -e \"s/\\([.\\!?,’/()]\\)/ \\1 /g\" | tr \"[:upper:]\" \"[:lower:]\" > \"/content/drive/MyDrive/Colab Notebooks/yelp_reviews_test_clean.txt\""
      ],
      "execution_count": 48,
      "outputs": []
    },
    {
      "cell_type": "code",
      "metadata": {
        "colab": {
          "base_uri": "https://localhost:8080/"
        },
        "id": "JV6Zhn9-sl91",
        "outputId": "87ca48e4-8cdd-435f-ccef-c7cd0adffbf3"
      },
      "source": [
        "%%time\n",
        "!./fasttext supervised -input \"/content/drive/MyDrive/Colab Notebooks/yelp_reviews_train_clean.txt\" -output model_yelp_reviews"
      ],
      "execution_count": 51,
      "outputs": [
        {
          "output_type": "stream",
          "text": [
            "\rRead 1M words\rRead 1M words\n",
            "Number of words:  53403\n",
            "Number of labels: 2\n",
            "Progress: 100.0%  words/sec/thread: 3465941  lr: 0.000000  loss: 0.256640  eta: 0h0m \n",
            "CPU times: user 45.1 ms, sys: 26.2 ms, total: 71.2 ms\n",
            "Wall time: 3.99 s\n"
          ],
          "name": "stdout"
        }
      ]
    },
    {
      "cell_type": "code",
      "metadata": {
        "colab": {
          "base_uri": "https://localhost:8080/"
        },
        "id": "6f3yRht-srjd",
        "outputId": "c025ae00-77fa-4458-c4b4-96412c9ae9aa"
      },
      "source": [
        "!./fasttext test model_yelp_reviews.bin \"/content/drive/MyDrive/Colab Notebooks/yelp_reviews_test_clean.txt\""
      ],
      "execution_count": 52,
      "outputs": [
        {
          "output_type": "stream",
          "text": [
            "N\t2000\n",
            "P@1\t0.939\n",
            "R@1\t0.939\n",
            "Number of examples: 2000\n"
          ],
          "name": "stdout"
        }
      ]
    },
    {
      "cell_type": "markdown",
      "metadata": {
        "id": "SNZAOM7As7c8"
      },
      "source": [
        "To further improve the model, you can increase the epochs and learning rate of the model. The following script sets the number of epochs to 30 and learning rate to 0.5."
      ]
    },
    {
      "cell_type": "code",
      "metadata": {
        "colab": {
          "base_uri": "https://localhost:8080/"
        },
        "id": "F6Rn0fY0swxW",
        "outputId": "36259817-81ba-435e-d29a-d4603c81a848"
      },
      "source": [
        "%%time\n",
        "!./fasttext supervised -input \"/content/drive/MyDrive/Colab Notebooks/yelp_reviews_train_clean.txt\" -output model_yelp_reviews -epoch 30 -lr 0.5"
      ],
      "execution_count": 53,
      "outputs": [
        {
          "output_type": "stream",
          "text": [
            "\rRead 1M words\rRead 1M words\n",
            "Number of words:  53403\n",
            "Number of labels: 2\n",
            "Progress: 100.0%  words/sec/thread: 3511181  lr: 0.000000  loss: 0.059096  eta: 0h0m \n",
            "CPU times: user 112 ms, sys: 45.9 ms, total: 158 ms\n",
            "Wall time: 8.91 s\n"
          ],
          "name": "stdout"
        }
      ]
    },
    {
      "cell_type": "code",
      "metadata": {
        "colab": {
          "base_uri": "https://localhost:8080/"
        },
        "id": "1CIGNTnCttNu",
        "outputId": "e8b6db16-cb98-4852-efe1-3b69e25dc244"
      },
      "source": [
        "!./fasttext test model_yelp_reviews.bin \"/content/drive/MyDrive/Colab Notebooks/yelp_reviews_test_clean.txt\""
      ],
      "execution_count": 54,
      "outputs": [
        {
          "output_type": "stream",
          "text": [
            "N\t2000\n",
            "P@1\t0.949\n",
            "R@1\t0.949\n",
            "Number of examples: 2000\n"
          ],
          "name": "stdout"
        }
      ]
    },
    {
      "cell_type": "markdown",
      "metadata": {
        "id": "illUEdfxtz_9"
      },
      "source": [
        "You can see the precision and recall scores are increasesd!"
      ]
    },
    {
      "cell_type": "markdown",
      "metadata": {
        "id": "5jBzp8Wmtood"
      },
      "source": [
        "FastText model has recently been proved state of the art for word embeddings and text classification tasks on many datasets. It is very easy to use and lightning fast as compared to other word embedding models."
      ]
    },
    {
      "cell_type": "code",
      "metadata": {
        "id": "vAzgnHJutHLG"
      },
      "source": [
        ""
      ],
      "execution_count": null,
      "outputs": []
    }
  ]
}